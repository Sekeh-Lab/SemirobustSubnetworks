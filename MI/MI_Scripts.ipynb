{
  "nbformat": 4,
  "nbformat_minor": 0,
  "metadata": {
    "colab": {
      "provenance": [],
      "machine_shape": "hm",
      "gpuType": "A100"
    },
    "kernelspec": {
      "name": "python3",
      "display_name": "Python 3"
    },
    "language_info": {
      "name": "python"
    },
    "accelerator": "GPU"
  },
  "cells": [
    {
      "cell_type": "markdown",
      "source": [
        "We provide here the settings for running each script for the MI methods. The notebook was written and designed for use in Google Colab"
      ],
      "metadata": {
        "id": "B5GJlDyQy3sR"
      }
    },
    {
      "cell_type": "code",
      "source": [
        "!pip install torchnet\n",
        "!pip install torchmetrics\n",
        "!pip install pytorch-lightning\n",
        "!pip install torchattacks"
      ],
      "metadata": {
        "id": "XutL3Of0y0P8"
      },
      "execution_count": null,
      "outputs": []
    },
    {
      "cell_type": "code",
      "source": [
        "runid=\"trial-000\"\n",
        "network,dataset=\"VGG16\",\"CIFAR10\"\n",
        "lr,bs,frozen_subnet,num_fb=0.01, 512,\"none\",0\n",
        "attack=\"none\"\n",
        "\n",
        "logpath = (\"./logs/pretraining/\" + dataset + \"_\" + network + \"/\" + str(lr) + \"_\" + str(bs) + \"/\" + defense + \"/\" + str(runid) + \"/\")\n",
        "!mkdir -p $logpath\n",
        "logfile = (logpath + \"log_\" + str(num_fb) + \".txt\")\n",
        "!touch $logfile\n",
        "\n",
        "defense = \"none\"\n",
        "!python \"./Subnetwork Training for MI.py\" --network=$network --defensetype=$defense --attacktype=$attack \\\n",
        "--dataset=$dataset --num_fb_layers=$num_fb --batchsize=$bs --run_id=$runid --learning_rate=$lr --frozen_subnet=$frozen_subnet | tee $logfile\n",
        "\n",
        "defense = \"pgd\"\n",
        "!python \"./Subnetwork Training for MI.py\" --network=$network --pretrained --defensetype=$defense --attacktype=$attack \\\n",
        "--dataset=$dataset --num_fb_layers=$num_fb --batchsize=$bs --run_id=$runid --learning_rate=$lr --frozen_subnet=$frozen_subnet | tee $logfile\n"
      ],
      "metadata": {
        "id": "pD0d-akRliZH"
      },
      "execution_count": null,
      "outputs": []
    },
    {
      "cell_type": "code",
      "source": [
        "\n",
        "runid=\"trial-000\"\n",
        "\n",
        "network,dataset=\"VGG16\",\"CIFAR10\"\n",
        "lr,bs,frozen_subnet,num_fb=0.01, 512\n",
        "defensetype,attacktype=\"pgd\",\"autoattack\"\n",
        "\n",
        "frozen_subnet=\"fa\"\n",
        "num_fb=12\n",
        "num_trials=10\n",
        "\n",
        "logpath = (\"./logs/alg1/\" + dataset + \"_\" + network + \"/\" + str(lr) + \"_\" + str(bs) + \"/\" + defensetype + \"_\" + attacktype  + \"/\" + str(runid) + \"/\")\n",
        "!mkdir -p $logpath\n",
        "logfile = (logpath + \"log_\" + str(num_fb) + \".txt\")\n",
        "!touch $logfile\n",
        "\n",
        "!python \"./Alg1.py\" --network=$network --attacktype=$attacktype --delta=0.05 --num_trials=$num_trials \\\n",
        "--defensetype=$defensetype --dataset=$dataset --num_fb_layers=$num_fb --batchsize=$bs --run_id=$runid --learning_rate=$lr --frozen_subnet=$frozen_subnet | tee $logfile\n",
        "\n"
      ],
      "metadata": {
        "id": "uCRk6fy5e5gP"
      },
      "execution_count": null,
      "outputs": []
    },
    {
      "cell_type": "code",
      "source": [
        "runid=\"trial-000\"\n",
        "network,dataset=\"VGG16\",\"CIFAR10\"\n",
        "lr,bs,frozen_subnet,num_fb=0.01, 512,\"fa\",12\n",
        "\n",
        "defense = \"pgd\"\n",
        "attack=\"fgsm\"\n",
        "\n",
        "logpath = (\"./logs/trialrhos/\" + dataset + \"_\" + network + \"/\" + str(lr) + \"_\" + str(bs) + \"/\" + defense + \"/\" + attack + \"/\" + str(runid) + \"/\")\n",
        "!mkdir -p $logpath\n",
        "logfile = (logpath + \"log_\" + str(num_fb) + \".txt\")\n",
        "!touch $logfile\n",
        "\n",
        "!python \"./Trial Rhos.py\" --network=$network --attacktype=$attack --defensetype=$defense --dataset=$dataset --num_fb_layers=$num_fb --batchsize=$bs --run_id=$runid --learning_rate=$lr --frozen_subnet=$frozen_subnet | tee $logfile\n"
      ],
      "metadata": {
        "id": "FcAeG21TzJRy"
      },
      "execution_count": null,
      "outputs": []
    },
    {
      "cell_type": "code",
      "source": [
        "\n",
        "\n",
        "\n",
        "\n",
        "\n",
        "\n"
      ],
      "metadata": {
        "id": "D_RzfZBwe29s"
      },
      "execution_count": null,
      "outputs": []
    },
    {
      "cell_type": "markdown",
      "source": [
        "#Benchmark methods"
      ],
      "metadata": {
        "id": "mA7wkj-2ziMP"
      }
    },
    {
      "cell_type": "code",
      "source": [
        "trialid = \"trial-000\"\n",
        "\n",
        "### Four settings used for the benchmark experiments\n",
        "# runid,losstype,epochsreset,attackiterations=\"MAT\",\"mat\",1,10\n",
        "# runid,losstype,epochsreset,attackiterations=\"ATTA\",\"mat\",10,3\n",
        "runid,losstype,epochsreset,attackiterations=\"TRADES\",\"trades\",1,10\n",
        "# runid,losstype,epochsreset,attackiterations=\"ATTA_TRADES\",\"trades\",10,3\n",
        "\n",
        "network,dataset=\"VGG16\",\"CIFAR10\"\n",
        "lr,bs,frozen_subnet,num_fb=0.01, 512,\"none\",0\n",
        "\n",
        "\n",
        "logpath = (\"./logs/pretraining_benchmarks/\" + dataset + \"_\" + network + \"/\" + str(lr) + \"_\" + str(bs) + \"/\" + defense + \\\n",
        "           \"/\" + losstype + \"_\" + str(epochsreset) + \"_\" + str(attackiterations) + \"/\" +str(runid) + \"/\" )\n",
        "!mkdir -p $logpath\n",
        "logfile = (logpath + \"log_\" + str(num_fb) + \".txt\")\n",
        "!touch $logfile\n",
        "\n",
        "defense = \"none\"\n",
        "attack=\"none\"\n",
        "\n",
        "!python \"./Subnetwork Training for MI.py\" --network=$network --defensetype=$defense --attacktype=$attack \\\n",
        "--dataset=$dataset --num_fb_layers=$num_fb --batchsize=$bs --run_id=$runid --learning_rate=$lr --frozen_subnet=$frozen_subnet \\\n",
        "--trial_id=$trialid --loss_type=$losstype --attack_iterations=$attackiterations --epochs_reset=$epochsreset | tee $logfile\n",
        "\n",
        "defense = \"pgd\"\n",
        "\n",
        "!python \"./Subnetwork Training for MI.py\" --network=$network --pretrained --defensetype=$defense --attacktype=$attack \\\n",
        "--dataset=$dataset --num_fb_layers=$num_fb --batchsize=$bs --run_id=$runid --learning_rate=$lr --frozen_subnet=$frozen_subnet \\\n",
        "--trial_id=$trialid --loss_type=$losstype --attack_iterations=$attackiterations --epochs_reset=$epochsreset | tee $logfile\n"
      ],
      "metadata": {
        "id": "C9Ti-3mLl1PM"
      },
      "execution_count": null,
      "outputs": []
    },
    {
      "cell_type": "code",
      "source": [
        "trialid = \"trial-000\"\n",
        "\n",
        "runid,losstype,epochsreset,attackiterations=\"MAT\",\"mat\",1,10\n",
        "# runid,losstype,epochsreset,attackiterations=\"ATTA\",\"mat\",10,3\n",
        "# runid,losstype,epochsreset,attackiterations=\"TRADES\",\"trades\",1,10\n",
        "# runid,losstype,epochsreset,attackiterations=\"ATTA_TRADES\",\"trades\",10,3\n",
        "\n",
        "network,dataset=\"VGG16\",\"CIFAR10\"\n",
        "lr,bs=0.01, 512\n",
        "defensetype,attacktype=\"pgd\",\"autoattack\"\n",
        "\n",
        "frozen_subnet=\"fa\"\n",
        "num_fb=4\n",
        "# num_fb=12\n",
        "num_trials=10\n",
        "\n",
        "\n",
        "logpath = (\"./logs/alg1_benchmarks/\" + dataset + \"_\" + network + \"/\" + str(lr) + \"_\" + str(bs) + \"/\" + defensetype + \"_\" + attacktype + \\\n",
        "           \"/\" + losstype + \"_\" + str(epochsreset) + \"_\" + str(attackiterations) + \"/\" +str(runid) + \"/\" )\n",
        "!mkdir -p $logpath\n",
        "logfile = (logpath + \"log_\" + str(num_fb) +\".txt\")\n",
        "!touch $logfile\n",
        "\n",
        "!python \"./Alg1.py\" --network=$network --attacktype=$attacktype --delta=0.05 --num_trials=$num_trials \\\n",
        "--defensetype=$defensetype --dataset=$dataset --num_fb_layers=$num_fb --batchsize=$bs --run_id=$runid --learning_rate=$lr --frozen_subnet=$frozen_subnet \\\n",
        "--trial_id=$trialid --loss_type=$losstype --attack_iterations=$attackiterations --epochs_reset=$epochsreset | tee $logfile\n",
        "\n"
      ],
      "metadata": {
        "id": "8Ow_vhE3oi3c"
      },
      "execution_count": null,
      "outputs": []
    }
  ]
}