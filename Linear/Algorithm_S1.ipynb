{
  "cells": [
    {
      "cell_type": "code",
      "execution_count": null,
      "metadata": {
        "id": "yyattgVJQT6c"
      },
      "outputs": [],
      "source": [
        "!pip install pytorch_lightning\n",
        "!pip install torchmetrics \n",
        "!pip install torchnet\n",
        "!pip install torchattacks\n",
        "!pip install torchsummary \n",
        "!pip install torchvision \n",
        "!pip install torch\n",
        "!pip install tensorflow \n"
      ]
    },
    {
      "cell_type": "code",
      "source": [
        "### Given the fully robust network (f_a^*, f_b^*) obtained from Algorithm 1.ipynb, run Algorithm S1\n",
        "run_id = \"alg2-rn18-000-fgsm-12\"\n",
        "\n",
        "logpath = \"./logs/\"\n",
        "!mkdir -p $logpath\n",
        "logfile = (logpath + run_id + \".txt\")\n",
        "!touch $logfile\n",
        "\n",
        "\n",
        "!python \"./AlgS1.py\" --network=\"Resnet18\" --dataset=\"CIFAR10\" --defensetype=\"pgd\" --attacktype=\"fgsm\" \\\n",
        "--num_fb_layers=8 --run_id=$run_id --learning_rate=0.001 --load_path='./saves/Resnet18/pgd/CIFAR10/0.031/robust-rn18-000/semirobust_0' \\\n",
        "--batchsize=512 --avg=\"True\"  | tee $logfile\n"
      ],
      "metadata": {
        "id": "AVAOQMBKEFEE"
      },
      "execution_count": null,
      "outputs": []
    }
  ],
  "metadata": {
    "accelerator": "GPU",
    "colab": {
      "provenance": []
    },
    "gpuClass": "standard",
    "kernelspec": {
      "display_name": "Python 3",
      "name": "python3"
    },
    "language_info": {
      "name": "python"
    }
  },
  "nbformat": 4,
  "nbformat_minor": 0
}